{
 "cells": [
  {
   "cell_type": "code",
   "execution_count": 75,
   "id": "4a3cbc2a",
   "metadata": {},
   "outputs": [],
   "source": [
    "import pandas as pd\n",
    "from matplotlib import pyplot as plt\n",
    "import seaborn as sns\n",
    "from sklearn.preprocessing import OneHotEncoder\n",
    "from sklearn.model_selection import train_test_split\n",
    "from sklearn.ensemble import RandomForestClassifier\n",
    "from sklearn.metrics import classification_report, accuracy_score, confusion_matrix"
   ]
  },
  {
   "cell_type": "code",
   "execution_count": 6,
   "id": "bcd906aa",
   "metadata": {},
   "outputs": [],
   "source": [
    "df=pd.read_csv('BI_ITS_Cleaned & Transformed student data.csv')"
   ]
  },
  {
   "cell_type": "code",
   "execution_count": 7,
   "id": "9babc765",
   "metadata": {},
   "outputs": [
    {
     "data": {
      "text/html": [
       "<div>\n",
       "<style scoped>\n",
       "    .dataframe tbody tr th:only-of-type {\n",
       "        vertical-align: middle;\n",
       "    }\n",
       "\n",
       "    .dataframe tbody tr th {\n",
       "        vertical-align: top;\n",
       "    }\n",
       "\n",
       "    .dataframe thead th {\n",
       "        text-align: right;\n",
       "    }\n",
       "</style>\n",
       "<table border=\"1\" class=\"dataframe\">\n",
       "  <thead>\n",
       "    <tr style=\"text-align: right;\">\n",
       "      <th></th>\n",
       "      <th>Full_Name</th>\n",
       "      <th>Enrollment_ID</th>\n",
       "      <th>Age_Group</th>\n",
       "      <th>Gender</th>\n",
       "      <th>State</th>\n",
       "      <th>Department</th>\n",
       "      <th>Program</th>\n",
       "      <th>Year_of_Study</th>\n",
       "      <th>Regular_transportation_mode</th>\n",
       "      <th>Source_of_Admission_Information</th>\n",
       "      <th>Primary_Reason_for_Choosing_the_College</th>\n",
       "      <th>Preferred_Time_for_Studying</th>\n",
       "      <th>Preferred_Device_for_Study</th>\n",
       "      <th>Use_of_Library</th>\n",
       "      <th>Participation_in_Extracurricular_Activities</th>\n",
       "      <th>Gym_Membership</th>\n",
       "      <th>Monthly_spending_on_essentials</th>\n",
       "      <th>Post-Graduation_Plans</th>\n",
       "    </tr>\n",
       "  </thead>\n",
       "  <tbody>\n",
       "    <tr>\n",
       "      <th>0</th>\n",
       "      <td>Mohd Atif</td>\n",
       "      <td>22stucddd04008</td>\n",
       "      <td>19-22</td>\n",
       "      <td>Male</td>\n",
       "      <td>Uttarakhand</td>\n",
       "      <td>ICFAI Tech School</td>\n",
       "      <td>B.sc(Data science)</td>\n",
       "      <td>Third Year</td>\n",
       "      <td>Walking</td>\n",
       "      <td>College website</td>\n",
       "      <td>Specific programs or majors offered</td>\n",
       "      <td>Late Night</td>\n",
       "      <td>Laptop</td>\n",
       "      <td>Weekly</td>\n",
       "      <td>Sports &amp; games (cricket, badminton, chess, etc.)</td>\n",
       "      <td>Yes, on-campus gym</td>\n",
       "      <td>Less than ₹10,000</td>\n",
       "      <td>Further Studies</td>\n",
       "    </tr>\n",
       "    <tr>\n",
       "      <th>1</th>\n",
       "      <td>Nishant Mathur testing file</td>\n",
       "      <td>636373</td>\n",
       "      <td>27-30</td>\n",
       "      <td>Male</td>\n",
       "      <td>Uttarakhand</td>\n",
       "      <td>ICFAI Tech School</td>\n",
       "      <td>Ph.D</td>\n",
       "      <td>Fifth Year</td>\n",
       "      <td>Public transport</td>\n",
       "      <td>School counselor</td>\n",
       "      <td>Campus facilities</td>\n",
       "      <td>Night</td>\n",
       "      <td>Laptop</td>\n",
       "      <td>Monthly</td>\n",
       "      <td>Academic clubs (debate, quiz, etc.)</td>\n",
       "      <td>No</td>\n",
       "      <td>₹10,000 - ₹19,999</td>\n",
       "      <td>Start a Business</td>\n",
       "    </tr>\n",
       "    <tr>\n",
       "      <th>2</th>\n",
       "      <td>Akshat Gupta</td>\n",
       "      <td>23STUCDDD01016</td>\n",
       "      <td>15-18</td>\n",
       "      <td>Male</td>\n",
       "      <td>Uttarakhand</td>\n",
       "      <td>ICFAI Tech School</td>\n",
       "      <td>B. Tech</td>\n",
       "      <td>First Year</td>\n",
       "      <td>Personal vehicle</td>\n",
       "      <td>Friends or family</td>\n",
       "      <td>Family or friends' recommendations</td>\n",
       "      <td>Early Morning</td>\n",
       "      <td>Laptop</td>\n",
       "      <td>Weekly</td>\n",
       "      <td>Sports &amp; games (cricket, badminton, chess, etc.)</td>\n",
       "      <td>Yes, off-campus gym</td>\n",
       "      <td>Less than ₹10,000</td>\n",
       "      <td>Job in other Domain</td>\n",
       "    </tr>\n",
       "    <tr>\n",
       "      <th>3</th>\n",
       "      <td>Rishi Gupta</td>\n",
       "      <td>23STUCDDN04002</td>\n",
       "      <td>19-22</td>\n",
       "      <td>Male</td>\n",
       "      <td>Delhi</td>\n",
       "      <td>ICFAI Tech School</td>\n",
       "      <td>B.sc(Data science)</td>\n",
       "      <td>Second Year</td>\n",
       "      <td>Walking</td>\n",
       "      <td>Social media</td>\n",
       "      <td>Specific programs or majors offered</td>\n",
       "      <td>Early Morning</td>\n",
       "      <td>Laptop</td>\n",
       "      <td>Daily</td>\n",
       "      <td>Sports &amp; games (cricket, badminton, chess, etc.)</td>\n",
       "      <td>Yes, on-campus gym</td>\n",
       "      <td>Less than ₹10,000</td>\n",
       "      <td>Start a Business</td>\n",
       "    </tr>\n",
       "    <tr>\n",
       "      <th>4</th>\n",
       "      <td>Lovely Chauhan</td>\n",
       "      <td>lovelychauhan071@gmail.com</td>\n",
       "      <td>19-22</td>\n",
       "      <td>Female</td>\n",
       "      <td>Uttar pradesh</td>\n",
       "      <td>ICFAI Tech School</td>\n",
       "      <td>B. Tech</td>\n",
       "      <td>First Year</td>\n",
       "      <td>Walking</td>\n",
       "      <td>Social media</td>\n",
       "      <td>Specific programs or majors offered</td>\n",
       "      <td>Evening</td>\n",
       "      <td>Laptop</td>\n",
       "      <td>Daily</td>\n",
       "      <td>Arts (singing, dancing, painting, etc.)</td>\n",
       "      <td>Yes, off-campus gym</td>\n",
       "      <td>Less than ₹10,000</td>\n",
       "      <td>Further Studies</td>\n",
       "    </tr>\n",
       "  </tbody>\n",
       "</table>\n",
       "</div>"
      ],
      "text/plain": [
       "                      Full_Name               Enrollment_ID Age_Group  Gender  \\\n",
       "0                     Mohd Atif             22stucddd04008      19-22    Male   \n",
       "1  Nishant Mathur testing file                       636373     27-30    Male   \n",
       "2                 Akshat Gupta              23STUCDDD01016      15-18    Male   \n",
       "3                  Rishi Gupta               23STUCDDN04002     19-22    Male   \n",
       "4               Lovely Chauhan   lovelychauhan071@gmail.com     19-22  Female   \n",
       "\n",
       "           State         Department             Program Year_of_Study  \\\n",
       "0    Uttarakhand  ICFAI Tech School  B.sc(Data science)    Third Year   \n",
       "1    Uttarakhand  ICFAI Tech School                Ph.D    Fifth Year   \n",
       "2    Uttarakhand  ICFAI Tech School             B. Tech    First Year   \n",
       "3          Delhi  ICFAI Tech School  B.sc(Data science)   Second Year   \n",
       "4  Uttar pradesh  ICFAI Tech School             B. Tech    First Year   \n",
       "\n",
       "  Regular_transportation_mode Source_of_Admission_Information  \\\n",
       "0                     Walking                 College website   \n",
       "1            Public transport                School counselor   \n",
       "2            Personal vehicle               Friends or family   \n",
       "3                     Walking                    Social media   \n",
       "4                     Walking                    Social media   \n",
       "\n",
       "  Primary_Reason_for_Choosing_the_College Preferred_Time_for_Studying  \\\n",
       "0     Specific programs or majors offered                  Late Night   \n",
       "1                       Campus facilities                       Night   \n",
       "2      Family or friends' recommendations               Early Morning   \n",
       "3     Specific programs or majors offered               Early Morning   \n",
       "4     Specific programs or majors offered                     Evening   \n",
       "\n",
       "  Preferred_Device_for_Study Use_of_Library  \\\n",
       "0                     Laptop         Weekly   \n",
       "1                     Laptop        Monthly   \n",
       "2                     Laptop         Weekly   \n",
       "3                     Laptop          Daily   \n",
       "4                     Laptop          Daily   \n",
       "\n",
       "        Participation_in_Extracurricular_Activities       Gym_Membership  \\\n",
       "0  Sports & games (cricket, badminton, chess, etc.)   Yes, on-campus gym   \n",
       "1               Academic clubs (debate, quiz, etc.)                   No   \n",
       "2  Sports & games (cricket, badminton, chess, etc.)  Yes, off-campus gym   \n",
       "3  Sports & games (cricket, badminton, chess, etc.)   Yes, on-campus gym   \n",
       "4           Arts (singing, dancing, painting, etc.)  Yes, off-campus gym   \n",
       "\n",
       "  Monthly_spending_on_essentials Post-Graduation_Plans  \n",
       "0              Less than ₹10,000       Further Studies  \n",
       "1              ₹10,000 - ₹19,999      Start a Business  \n",
       "2              Less than ₹10,000   Job in other Domain  \n",
       "3              Less than ₹10,000      Start a Business  \n",
       "4              Less than ₹10,000       Further Studies  "
      ]
     },
     "execution_count": 7,
     "metadata": {},
     "output_type": "execute_result"
    }
   ],
   "source": [
    "df.head()"
   ]
  },
  {
   "cell_type": "code",
   "execution_count": 8,
   "id": "beabee97",
   "metadata": {},
   "outputs": [
    {
     "data": {
      "text/plain": [
       "Full_Name                                      0\n",
       "Enrollment_ID                                  0\n",
       "Age_Group                                      0\n",
       "Gender                                         0\n",
       "State                                          0\n",
       "Department                                     0\n",
       "Program                                        0\n",
       "Year_of_Study                                  0\n",
       "Regular_transportation_mode                    0\n",
       "Source_of_Admission_Information                0\n",
       "Primary_Reason_for_Choosing_the_College        0\n",
       "Preferred_Time_for_Studying                    0\n",
       "Preferred_Device_for_Study                     0\n",
       "Use_of_Library                                 0\n",
       "Participation_in_Extracurricular_Activities    0\n",
       "Gym_Membership                                 0\n",
       "Monthly_spending_on_essentials                 0\n",
       "Post-Graduation_Plans                          0\n",
       "dtype: int64"
      ]
     },
     "execution_count": 8,
     "metadata": {},
     "output_type": "execute_result"
    }
   ],
   "source": [
    "df.isna().sum()"
   ]
  },
  {
   "cell_type": "code",
   "execution_count": 11,
   "id": "48ca9f2d",
   "metadata": {},
   "outputs": [],
   "source": [
    "features = [\n",
    "    'Age_Group', 'Gender', 'State', 'Program', 'Year_of_Study',\n",
    "    'Regular_transportation_mode', 'Preferred_Time_for_Studying',\n",
    "    'Preferred_Device_for_Study', 'Use_of_Library',\n",
    "    'Participation_in_Extracurricular_Activities', 'Gym_Membership',\n",
    "    'Monthly_spending_on_essentials'\n",
    "]\n",
    "x=df[features]\n",
    "y=df['Post-Graduation_Plans']"
   ]
  },
  {
   "cell_type": "code",
   "execution_count": 17,
   "id": "a3eee682",
   "metadata": {},
   "outputs": [],
   "source": [
    "encoder=OneHotEncoder(sparse=False)\n",
    "x_encoded=encoder.fit_transform(x)"
   ]
  },
  {
   "cell_type": "code",
   "execution_count": 22,
   "id": "42361217",
   "metadata": {},
   "outputs": [],
   "source": [
    "x_train,x_test,y_train,y_test = train_test_split(x_encoded,y,test_size=0.2,random_state=42)"
   ]
  },
  {
   "cell_type": "code",
   "execution_count": 40,
   "id": "575f22ae",
   "metadata": {},
   "outputs": [
    {
     "data": {
      "text/plain": [
       "RandomForestClassifier(random_state=42)"
      ]
     },
     "execution_count": 40,
     "metadata": {},
     "output_type": "execute_result"
    }
   ],
   "source": [
    "model=RandomForestClassifier(random_state=42)\n",
    "model.fit(x_train,y_train)"
   ]
  },
  {
   "cell_type": "code",
   "execution_count": 58,
   "id": "88b61d22",
   "metadata": {},
   "outputs": [
    {
     "data": {
      "text/plain": [
       "array(['Job in Field of Study', 'Job in Field of Study',\n",
       "       'Job in Field of Study', 'Job in Field of Study',\n",
       "       'Job in Field of Study', 'Job in Field of Study',\n",
       "       'Job in Field of Study', 'Job in Field of Study',\n",
       "       'Job in Field of Study', 'Further Studies',\n",
       "       'Job in Field of Study', 'Job in Field of Study',\n",
       "       'Job in Field of Study', 'Job in Field of Study',\n",
       "       'Job in Field of Study', 'Further Studies',\n",
       "       'Job in Field of Study', 'Further Studies'], dtype=object)"
      ]
     },
     "execution_count": 58,
     "metadata": {},
     "output_type": "execute_result"
    }
   ],
   "source": [
    "y_pred=model.predict(x_test)\n",
    "y_pred"
   ]
  },
  {
   "cell_type": "code",
   "execution_count": 72,
   "id": "51393373",
   "metadata": {},
   "outputs": [
    {
     "name": "stdout",
     "output_type": "stream",
     "text": [
      "Model Accuracy: 33.3 %\n",
      "Report:                        precision    recall  f1-score   support\n",
      "\n",
      "      Further Studies       0.33      0.11      0.17         9\n",
      "Job in Field of Study       0.33      0.71      0.45         7\n",
      "  Job in other Domain       0.00      0.00      0.00         1\n",
      "     Start a Business       0.00      0.00      0.00         1\n",
      "\n",
      "             accuracy                           0.33        18\n",
      "            macro avg       0.17      0.21      0.16        18\n",
      "         weighted avg       0.30      0.33      0.26        18\n",
      "\n"
     ]
    },
    {
     "name": "stderr",
     "output_type": "stream",
     "text": [
      "C:\\Users\\AC\\anaconda3\\lib\\site-packages\\sklearn\\metrics\\_classification.py:1318: UndefinedMetricWarning: Precision and F-score are ill-defined and being set to 0.0 in labels with no predicted samples. Use `zero_division` parameter to control this behavior.\n",
      "  _warn_prf(average, modifier, msg_start, len(result))\n",
      "C:\\Users\\AC\\anaconda3\\lib\\site-packages\\sklearn\\metrics\\_classification.py:1318: UndefinedMetricWarning: Precision and F-score are ill-defined and being set to 0.0 in labels with no predicted samples. Use `zero_division` parameter to control this behavior.\n",
      "  _warn_prf(average, modifier, msg_start, len(result))\n",
      "C:\\Users\\AC\\anaconda3\\lib\\site-packages\\sklearn\\metrics\\_classification.py:1318: UndefinedMetricWarning: Precision and F-score are ill-defined and being set to 0.0 in labels with no predicted samples. Use `zero_division` parameter to control this behavior.\n",
      "  _warn_prf(average, modifier, msg_start, len(result))\n"
     ]
    }
   ],
   "source": [
    "accuracy=accuracy_score(y_test,y_pred)\n",
    "report=classification_report(y_test,y_pred)\n",
    "print(f'Model Accuracy: {accuracy*100:.1f} %')\n",
    "print('Report:',report)"
   ]
  },
  {
   "cell_type": "code",
   "execution_count": 57,
   "id": "c9f95854",
   "metadata": {},
   "outputs": [
    {
     "data": {
      "text/plain": [
       "{'Job in other Domain', 'Start a Business'}"
      ]
     },
     "execution_count": 57,
     "metadata": {},
     "output_type": "execute_result"
    }
   ],
   "source": [
    "set(y_test)-set(y_pred)"
   ]
  },
  {
   "cell_type": "code",
   "execution_count": 80,
   "id": "405dd0e0",
   "metadata": {},
   "outputs": [
    {
     "data": {
      "text/plain": [
       "<AxesSubplot:>"
      ]
     },
     "execution_count": 80,
     "metadata": {},
     "output_type": "execute_result"
    },
    {
     "data": {
      "image/png": "[encoded data removed]",
      "text/plain": [
       "<Figure size 640x480 with 2 Axes>"
      ]
     },
     "metadata": {},
     "output_type": "display_data"
    }
   ],
   "source": [
    "cm=confusion_matrix(y_test,y_pred)\n",
    "sns.heatmap(cm,annot=True,fmt='d',cmap='Blues')\n",
    "plt.xticks([''])"
   ]
  },
  {
   "cell_type": "code",
   "execution_count": null,
   "id": "d9b398b6",
   "metadata": {},
   "outputs": [],
   "source": []
  }
 ],
 "metadata": {
  "kernelspec": {
   "display_name": "Python 3 (ipykernel)",
   "language": "python",
   "name": "python3"
  },
  "language_info": {
   "codemirror_mode": {
    "name": "ipython",
    "version": 3
   },
   "file_extension": ".py",
   "mimetype": "text/x-python",
   "name": "python",
   "nbconvert_exporter": "python",
   "pygments_lexer": "ipython3",
   "version": "3.9.13"
  }
 },
 "nbformat": 4,
 "nbformat_minor": 5
}
